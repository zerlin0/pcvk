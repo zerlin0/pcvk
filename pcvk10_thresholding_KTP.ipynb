{
  "nbformat": 4,
  "nbformat_minor": 0,
  "metadata": {
    "colab": {
      "provenance": [],
      "authorship_tag": "ABX9TyN3eqzrNwgbt3kavGwbPLvv",
      "include_colab_link": true
    },
    "kernelspec": {
      "name": "python3",
      "display_name": "Python 3"
    },
    "language_info": {
      "name": "python"
    }
  },
  "cells": [
    {
      "cell_type": "markdown",
      "metadata": {
        "id": "view-in-github",
        "colab_type": "text"
      },
      "source": [
        "<a href=\"https://colab.research.google.com/github/zerlin0/pcvk/blob/main/pcvk10_thresholding_KTP.ipynb\" target=\"_parent\"><img src=\"https://colab.research.google.com/assets/colab-badge.svg\" alt=\"Open In Colab\"/></a>"
      ]
    },
    {
      "cell_type": "markdown",
      "source": [
        "Global Thresholding INDONESIA (KTP)"
      ],
      "metadata": {
        "id": "5hspVsViDr6L"
      }
    },
    {
      "cell_type": "markdown",
      "source": [
        "1. Import beberapa library"
      ],
      "metadata": {
        "id": "eVl93OBEEZM4"
      }
    },
    {
      "cell_type": "code",
      "source": [
        "import cv2\n",
        "import numpy as np\n",
        "import pytesseract\n",
        "import matplotlib.pyplot as plt\n",
        "import pandas as pd\n",
        "from PIL import Image"
      ],
      "metadata": {
        "id": "B6l7F5ugDs13"
      },
      "execution_count": 8,
      "outputs": []
    },
    {
      "cell_type": "markdown",
      "source": [
        "2. Buat Global Threshold (BINARY, BINARY_INV, TRUNC, TOZERO, TOZERO_INV), dengan\n",
        "threshold= 170, secara manual sesuai dengan deskripsi dari grafik yang ditunjukkan di\n",
        "atas."
      ],
      "metadata": {
        "id": "RplGIV5AEcXD"
      }
    },
    {
      "cell_type": "code",
      "source": [
        "filename = ('/content/drive/MyDrive/Images/gradient.jpg')\n",
        "img = cv2.imread(filename)\n",
        "thresh1 = cv2.imread(filename)\n",
        "thresh2 = cv2.imread(filename)\n",
        "thresh3 = cv2.imread(filename)\n",
        "thresh4 = cv2.imread(filename)\n",
        "thresh5 = cv2.imread(filename)\n",
        "thresh = 170                                #nilai Threshold yang ditentukan\n",
        "  #1. thresh1 jika pixel di img>127, maka thresh1 bernilai 1(putih) selain itu bernilai 0(hitam)\n",
        "thresh1[img>thresh] = 255                   #tanpa library\n",
        "thresh1[img<=thresh] = 0\n",
        "  #2. thresh2 adalah binary threshold inverse\n",
        "thresh2 = 255 - thresh1\n",
        "  #3. Threshold Truncate\n",
        "thresh3[img>thresh] = thresh #tanpa library\n",
        "  #4. Threshold Tozero\n",
        "thresh4[img<=thresh] = 0                   #tanpa library\n",
        "  #5. Threshold Tozero Inverse\n",
        "thresh5[img>thresh] = 0                    #tanpa library\n",
        "titles = ['Original Image','BINARY','BINARY_INV','TRUNC','TOZERO', 'TOZERO_INV']\n",
        "images = [img, thresh1, thresh2, thresh3, thresh4, thresh5]\n",
        "\n",
        "plt.figure(figsize = (15,5))\n",
        "for i in range(len(images)):\n",
        "  plt.subplot(2,3,i+1),plt.imshow(images[i],'gray', interpolation='nearest')\n",
        "  plt.title(titles[i])\n",
        "  plt.xticks([]),plt.yticks([])\n",
        "plt.show()"
      ],
      "metadata": {
        "id": "FYvCniyIDxXX",
        "outputId": "229df4b0-eaf7-460d-c3e6-23a0b79b29d0",
        "colab": {
          "base_uri": "https://localhost:8080/",
          "height": 246
        }
      },
      "execution_count": 19,
      "outputs": [
        {
          "output_type": "error",
          "ename": "TypeError",
          "evalue": "ignored",
          "traceback": [
            "\u001b[0;31m---------------------------------------------------------------------------\u001b[0m",
            "\u001b[0;31mTypeError\u001b[0m                                 Traceback (most recent call last)",
            "\u001b[0;32m<ipython-input-19-fd8f697736aa>\u001b[0m in \u001b[0;36m<cell line: 10>\u001b[0;34m()\u001b[0m\n\u001b[1;32m      8\u001b[0m \u001b[0mthresh\u001b[0m \u001b[0;34m=\u001b[0m \u001b[0;36m170\u001b[0m                                \u001b[0;31m#nilai Threshold yang ditentukan\u001b[0m\u001b[0;34m\u001b[0m\u001b[0;34m\u001b[0m\u001b[0m\n\u001b[1;32m      9\u001b[0m   \u001b[0;31m#1. thresh1 jika pixel di img>127, maka thresh1 bernilai 1(putih) selain itu bernilai 0(hitam)\u001b[0m\u001b[0;34m\u001b[0m\u001b[0;34m\u001b[0m\u001b[0m\n\u001b[0;32m---> 10\u001b[0;31m \u001b[0mthresh1\u001b[0m\u001b[0;34m[\u001b[0m\u001b[0mimg\u001b[0m\u001b[0;34m>\u001b[0m\u001b[0mthresh\u001b[0m\u001b[0;34m]\u001b[0m \u001b[0;34m=\u001b[0m \u001b[0;36m255\u001b[0m                   \u001b[0;31m#tanpa library\u001b[0m\u001b[0;34m\u001b[0m\u001b[0;34m\u001b[0m\u001b[0m\n\u001b[0m\u001b[1;32m     11\u001b[0m \u001b[0mthresh1\u001b[0m\u001b[0;34m[\u001b[0m\u001b[0mimg\u001b[0m\u001b[0;34m<=\u001b[0m\u001b[0mthresh\u001b[0m\u001b[0;34m]\u001b[0m \u001b[0;34m=\u001b[0m \u001b[0;36m0\u001b[0m\u001b[0;34m\u001b[0m\u001b[0;34m\u001b[0m\u001b[0m\n\u001b[1;32m     12\u001b[0m   \u001b[0;31m#2. thresh2 adalah binary threshold inverse\u001b[0m\u001b[0;34m\u001b[0m\u001b[0;34m\u001b[0m\u001b[0m\n",
            "\u001b[0;31mTypeError\u001b[0m: '>' not supported between instances of 'NoneType' and 'int'"
          ]
        }
      ]
    }
  ]
}