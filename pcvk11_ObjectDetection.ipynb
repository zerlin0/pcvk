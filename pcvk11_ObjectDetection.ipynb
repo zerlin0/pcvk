{
  "nbformat": 4,
  "nbformat_minor": 0,
  "metadata": {
    "colab": {
      "provenance": [],
      "authorship_tag": "ABX9TyM94wSx8Oy+fnDxqBAnkCJO",
      "include_colab_link": true
    },
    "kernelspec": {
      "name": "python3",
      "display_name": "Python 3"
    },
    "language_info": {
      "name": "python"
    }
  },
  "cells": [
    {
      "cell_type": "markdown",
      "metadata": {
        "id": "view-in-github",
        "colab_type": "text"
      },
      "source": [
        "<a href=\"https://colab.research.google.com/github/zerlin0/pcvk/blob/main/pcvk11_ObjectDetection.ipynb\" target=\"_parent\"><img src=\"https://colab.research.google.com/assets/colab-badge.svg\" alt=\"Open In Colab\"/></a>"
      ]
    },
    {
      "cell_type": "markdown",
      "source": [
        "# **Object Detection**"
      ],
      "metadata": {
        "id": "Pmjl7nC7Nw4o"
      }
    },
    {
      "cell_type": "markdown",
      "source": [
        "Metode yang digunakan :\n",
        "1. Template Matching\n",
        "2. Edge Detection\n",
        "3. Corner Detection\n",
        "4. Grid Detection\n",
        "5. Contour Detection"
      ],
      "metadata": {
        "id": "x6JLX4ABK1wb"
      }
    },
    {
      "cell_type": "markdown",
      "source": [
        "- Content-Based Image Retrieval (CBIR) = shape, color, texture (ini metode/ilmu lama)\n",
        "- metode terbarunya adalah dengan Deep Learning(dengan mengekstrak pixel)\n",
        "- ekstrasi fitur akan merepotkan jika banyak bentuk yg dideteksi, akan makin kompleks"
      ],
      "metadata": {
        "id": "BkH_eTMSLihU"
      }
    },
    {
      "cell_type": "markdown",
      "source": [
        "# TEMPLATE MATCHING"
      ],
      "metadata": {
        "id": "74R_lNPqRGE8"
      }
    },
    {
      "cell_type": "markdown",
      "source": [
        "Menggunakan library openCV:\n",
        "ev.matchTemplate(), dengan parameter\n",
        "- image: citra input\n",
        "- templ: template yang dicari, ukurannya tidak boleh lebih besar dari citra input\n",
        "- method metade dari template matching\n",
        "Jenis metode template matching di OpenCV:\n",
        "  1. TM SQDIFF\n",
        "  2. TM SQDIFF NORMED\n",
        "  3. TM_CCORR\n",
        "  4. TM.CCORR NORMED\n",
        "  5. TM.CCOEFF\n",
        "  6. TM CCOEFF NORMED"
      ],
      "metadata": {
        "id": "ADA2DIn-RPlm"
      }
    },
    {
      "cell_type": "markdown",
      "source": [
        "# Practicum"
      ],
      "metadata": {
        "id": "ZwqRgznMUs9K"
      }
    },
    {
      "cell_type": "code",
      "execution_count": null,
      "metadata": {
        "id": "z0_N9g6OKUV1"
      },
      "outputs": [],
      "source": [
        "#import library\n",
        "import cv2 as cv\n",
        "import numpy as np\n",
        "from matplotlib import pyplot as plt"
      ]
    },
    {
      "cell_type": "code",
      "source": [
        "#askes drive\n",
        "from google.colab import drive\n",
        "\n",
        "drive.mount('/content/drive')"
      ],
      "metadata": {
        "colab": {
          "base_uri": "https://localhost:8080/"
        },
        "id": "FmRQ330KMJHg",
        "outputId": "19f07825-583a-4874-d497-ce8722b4e175"
      },
      "execution_count": null,
      "outputs": [
        {
          "output_type": "stream",
          "name": "stdout",
          "text": [
            "Drive already mounted at /content/drive; to attempt to forcibly remount, call drive.mount(\"/content/drive\", force_remount=True).\n"
          ]
        }
      ]
    },
    {
      "cell_type": "code",
      "source": [
        "# Baca gambar utama dan gambar template\n",
        "main_image = cv.imread('/content/drive/MyDrive/Images/cats_and_bunnies.jpg', cv.IMREAD_COLOR)\n",
        "template = cv.imread('/content/drive/MyDrive/Images/cat2_template.jpg', cv.IMREAD_COLOR)\n",
        "\n",
        "# Convert gambar ke grayscale\n",
        "main_gray = cv.cvtColor(main_image, cv.COLOR_BGR2GRAY)\n",
        "template_gray = cv.cvtColor(template, cv.COLOR_BGR2GRAY)\n",
        "\n",
        "# Metode Template Matching: TM_SQDIFF\n",
        "result_sqdiff = cv.matchTemplate(main_gray, template_gray, cv.TM_SQDIFF)\n",
        "min_val, max_val, min_loc, max_loc = cv.minMaxLoc(result_sqdiff)\n",
        "top_left = min_loc\n",
        "h, w = template_gray.shape\n",
        "bottom_right = (top_left[0] + w, top_left[1] + h)\n",
        "\n",
        "# Gambar hasil pencocokan dengan kotak di sekitar objek cocok\n",
        "matched_image_sqdiff = main_image.copy()\n",
        "cv.rectangle(matched_image_sqdiff, top_left, bottom_right, 255, 2)\n",
        "\n",
        "# Metode Template Matching: TM_SQDIFF_NORMED\n",
        "result_sqdiff_normed = cv.matchTemplate(main_gray, template_gray, cv.TM_SQDIFF_NORMED)\n",
        "min_val, max_val, min_loc, max_loc = cv.minMaxLoc(result_sqdiff_normed)\n",
        "top_left = min_loc\n",
        "h, w = template_gray.shape\n",
        "bottom_right = (top_left[0] + w, top_left[1] + h)\n",
        "\n",
        "# Gambar hasil pencocokan dengan kotak di sekitar objek cocok\n",
        "matched_image_sqdiff_normed = main_image.copy()\n",
        "cv.rectangle(matched_image_sqdiff_normed, top_left, bottom_right, 255, 2)\n",
        "\n",
        "# Metode Template Matching: TM_CCORR\n",
        "result_ccorr = cv.matchTemplate(main_gray, template_gray, cv.TM_CCORR)\n",
        "min_val, max_val, min_loc, max_loc = cv.minMaxLoc(result_ccorr)\n",
        "top_left = max_loc\n",
        "h, w = template_gray.shape\n",
        "bottom_right = (top_left[0] + w, top_left[1] + h)\n",
        "\n",
        "# Gambar hasil pencocokan dengan kotak di sekitar objek cocok\n",
        "matched_image_ccorr = main_image.copy()\n",
        "cv.rectangle(matched_image_ccorr, top_left, bottom_right, 255, 2)\n",
        "\n",
        "# Metode Template Matching: TM_CCORR_NORMED\n",
        "result_ccorr_normed = cv.matchTemplate(main_gray, template_gray, cv.TM_CCORR_NORMED)\n",
        "min_val, max_val, min_loc, max_loc = cv.minMaxLoc(result_ccorr_normed)\n",
        "top_left = max_loc\n",
        "h, w = template_gray.shape\n",
        "bottom_right = (top_left[0] + w, top_left[1] + h)\n",
        "\n",
        "# Gambar hasil pencocokan dengan kotak di sekitar objek cocok\n",
        "matched_image_ccorr_normed = main_image.copy()\n",
        "cv.rectangle(matched_image_ccorr_normed, top_left, bottom_right, 255, 2)\n",
        "\n",
        "# Metode Template Matching: TM_CCOEFF\n",
        "result_ccoeff = cv.matchTemplate(main_gray, template_gray, cv.TM_CCOEFF)\n",
        "min_val, max_val, min_loc, max_loc = cv.minMaxLoc(result_ccoeff)\n",
        "top_left = max_loc\n",
        "h, w = template_gray.shape\n",
        "bottom_right = (top_left[0] + w, top_left[1] + h)\n",
        "\n",
        "# Gambar hasil pencocokan dengan kotak di sekitar objek cocok\n",
        "matched_image_ccoeff = main_image.copy()\n",
        "cv.rectangle(matched_image_ccoeff, top_left, bottom_right, 255, 2)\n",
        "\n",
        "# Metode Template Matching: TM_CCOEFF_NORMED\n",
        "result_ccoeff_normed = cv.matchTemplate(main_gray, template_gray, cv.TM_CCOEFF_NORMED)\n",
        "min_val, max_val, min_loc, max_loc = cv.minMaxLoc(result_ccoeff_normed)\n",
        "top_left = max_loc\n",
        "h, w = template_gray.shape\n",
        "bottom_right = (top_left[0] + w, top_left[1] + h)\n",
        "\n",
        "# Gambar hasil pencocokan dengan kotak di sekitar objek cocok\n",
        "matched_image_ccoeff_normed = main_image.copy()\n",
        "cv.rectangle(matched_image_ccoeff_normed, top_left, bottom_right, 255, 2)\n",
        "\n",
        "# Tampilkan gambar-gambar hasil pencocokan\n",
        "plt.subplot(231), plt.imshow(matched_image_sqdiff, cmap='gray'), plt.title('TM_SQDIFF')\n",
        "plt.subplot(232), plt.imshow(matched_image_sqdiff_normed, cmap='gray'), plt.title('TM_SQDIFF_NORMED')\n",
        "plt.subplot(233), plt.imshow(matched_image_ccorr, cmap='gray'), plt.title('TM_CCORR')\n",
        "plt.subplot(234), plt.imshow(matched_image_ccorr_normed, cmap='gray'), plt.title('TM_CCORR_NORMED')\n",
        "plt.subplot(235), plt.imshow(matched_image_ccoeff, cmap='gray'), plt.title('TM_CCOEFF')\n",
        "plt.subplot(236), plt.imshow(matched_image_ccoeff_normed, cmap='gray'), plt.title('TM_CCOEFF_NORMED')\n",
        "plt.show()\n"
      ],
      "metadata": {
        "id": "fVCMrkYsVT-8"
      },
      "execution_count": null,
      "outputs": []
    },
    {
      "cell_type": "code",
      "source": [
        "# Import necessary libraries\n",
        "import cv2\n",
        "from matplotlib import pyplot as plt\n",
        "\n",
        "# Load the image\n",
        "image = cv2.imread('/content/drive/MyDrive/Images/parking-lot-cars.jpg', cv2.IMREAD_GRAYSCALE)\n",
        "\n",
        "# Apply Sobel Edge Detection\n",
        "sobel_x = cv2.Sobel(image, cv2.CV_64F, 1, 0, ksize=5)\n",
        "sobel_y = cv2.Sobel(image, cv2.CV_64F, 0, 1, ksize=5)\n",
        "sobel_edge = cv2.addWeighted(cv2.convertScaleAbs(sobel_x), 0.5, cv2.convertScaleAbs(sobel_y), 0.5, 0)\n",
        "\n",
        "# Apply Canny Edge Detection\n",
        "canny_edge = cv2.Canny(image, threshold1=100, threshold2=200)\n",
        "\n",
        "# Apply Laplacian Edge Detection\n",
        "laplacian_edge = cv2.Laplacian(image, cv2.CV_64F)\n",
        "laplacian_edge = cv2.convertScaleAbs(laplacian_edge)\n",
        "\n",
        "# Display the original and edge-detected images\n",
        "plt.subplot(2, 2, 1), plt.imshow(image, cmap='gray'), plt.title('Original Image')\n",
        "plt.subplot(2, 2, 2), plt.imshow(sobel_edge, cmap='gray'), plt.title('Sobel Edge Detection')\n",
        "plt.subplot(2, 2, 3), plt.imshow(canny_edge, cmap='gray'), plt.title('Canny Edge Detection')\n",
        "plt.subplot(2, 2, 4), plt.imshow(laplacian_edge, cmap='gray'), plt.title('Laplacian Edge Detection')\n",
        "\n",
        "plt.show()\n"
      ],
      "metadata": {
        "id": "PKmJlh5iq1_I"
      },
      "execution_count": null,
      "outputs": []
    },
    {
      "cell_type": "code",
      "source": [
        "# Import necessary libraries\n",
        "import cv2\n",
        "from matplotlib import pyplot as plt\n",
        "\n",
        "# Load the image\n",
        "image = cv2.imread('/content/drive/MyDrive/Images/parking-lot-cars.jpg', cv2.IMREAD_GRAYSCALE)\n",
        "\n",
        "# Apply Sobel Edge Detection\n",
        "sobel_x = cv2.Sobel(image, cv2.CV_64F, 1, 0, ksize=5)\n",
        "sobel_y = cv2.Sobel(image, cv2.CV_64F, 0, 1, ksize=5)\n",
        "sobel_edge = cv2.addWeighted(cv2.convertScaleAbs(sobel_x), 0.5, cv2.convertScaleAbs(sobel_y), 0.5, 0)\n",
        "\n",
        "# Apply Canny Edge Detection\n",
        "canny_edge = cv2.Canny(image, threshold1=100, threshold2=200)\n",
        "\n",
        "# Apply Laplacian Edge Detection\n",
        "laplacian_edge = cv2.Laplacian(image, cv2.CV_64F)\n",
        "laplacian_edge = cv2.convertScaleAbs(laplacian_edge)\n",
        "\n",
        "# Display the original and edge-detected images\n",
        "plt.subplot(2, 2, 1), plt.imshow(image, cmap='gray'), plt.title('Original Image')\n",
        "plt.subplot(2, 2, 2), plt.imshow(sobel_edge, cmap='gray'), plt.title('Sobel Edge Detection')\n",
        "plt.subplot(2, 2, 3), plt.imshow(canny_edge, cmap='gray'), plt.title('Canny Edge Detection')\n",
        "plt.subplot(2, 2, 4), plt.imshow(laplacian_edge, cmap='gray'), plt.title('Laplacian Edge Detection')\n",
        "\n",
        "plt.show()\n"
      ],
      "metadata": {
        "id": "JPbYGzcnro2h"
      },
      "execution_count": null,
      "outputs": []
    },
    {
      "cell_type": "code",
      "source": [
        "# Import necessary libraries\n",
        "import cv2\n",
        "import numpy as np\n",
        "from matplotlib import pyplot as plt\n",
        "\n",
        "# Load the image\n",
        "image = cv2.imread('/content/drive/MyDrive/Images/sudoku.jpg', cv2.IMREAD_GRAYSCALE)\n",
        "\n",
        "# Apply Gaussian Blur to the image to reduce noise\n",
        "blurred_image = cv2.GaussianBlur(image, (5, 5), 0)\n",
        "\n",
        "# Apply Canny Edge Detection\n",
        "canny_edge = cv2.Canny(blurred_image, threshold1=50, threshold2=150)\n",
        "\n",
        "# Find lines using the Hough Line Transform\n",
        "lines = cv2.HoughLines(canny_edge, 1, np.pi/180, threshold=100)\n",
        "\n",
        "# Draw the detected lines on the original image\n",
        "if lines is not None:\n",
        "    for rho, theta in lines[:, 0]:\n",
        "        a = np.cos(theta)\n",
        "        b = np.sin(theta)\n",
        "        x0 = a * rho\n",
        "        y0 = b * rho\n",
        "        x1 = int(x0 + 1000 * (-b))\n",
        "        y1 = int(y0 + 1000 * (a))\n",
        "        x2 = int(x0 - 1000 * (-b))\n",
        "        y2 = int(y0 - 1000 * (a)\n",
        "        cv2.line(image, (x1, y1), (x2, y2), (0, 0, 255), 2)\n",
        "\n",
        "# Display the original image with detected grid lines\n",
        "plt.imshow(image, cmap='gray')\n",
        "plt.title('Sudoku Grid Detection')\n",
        "plt.show()\n"
      ],
      "metadata": {
        "id": "HG1H6VaBsK9P"
      },
      "execution_count": null,
      "outputs": []
    },
    {
      "cell_type": "code",
      "source": [
        "# Import necessary libraries\n",
        "import cv2\n",
        "import numpy as np\n",
        "from matplotlib import pyplot as plt\n",
        "\n",
        "# Load the image\n",
        "image = cv2.imread('/content/drive/MyDrive/Images/laptop.jpg', cv2.IMREAD_COLOR)\n",
        "\n",
        "# Convert the image to grayscale\n",
        "gray_image = cv2.cvtColor(image, cv2.COLOR_BGR2GRAY)\n",
        "\n",
        "# Apply Gaussian Blur to reduce noise\n",
        "blurred_image = cv2.GaussianBlur(gray_image, (5, 5), 0)\n",
        "\n",
        "# Apply Canny Edge Detection\n",
        "canny_edge = cv2.Canny(blurred_image, threshold1=50, threshold2=150)\n",
        "\n",
        "# Find contours in the Canny edge-detected image\n",
        "contours, _ = cv2.findContours(canny_edge, cv2.RETR_EXTERNAL, cv2.CHAIN_APPROX_SIMPLE)\n",
        "\n",
        "# Draw the detected contours on a copy of the original image\n",
        "image_with_contours = image.copy()\n",
        "cv2.drawContours(image_with_contours, contours, -1, (0, 0, 255), 2)\n",
        "\n",
        "# Display the original image with detected contours\n",
        "plt.imshow(cv2.cvtColor(image_with_contours, cv2.COLOR_BGR2RGB))\n",
        "plt.title('Laptop Contour Detection')\n",
        "plt.show()\n"
      ],
      "metadata": {
        "id": "zHcpHc43sPEe"
      },
      "execution_count": null,
      "outputs": []
    }
  ]
}