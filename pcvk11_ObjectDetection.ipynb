{
  "nbformat": 4,
  "nbformat_minor": 0,
  "metadata": {
    "colab": {
      "provenance": [],
      "authorship_tag": "ABX9TyORSz3lLsijwnWyUf7aHZrN",
      "include_colab_link": true
    },
    "kernelspec": {
      "name": "python3",
      "display_name": "Python 3"
    },
    "language_info": {
      "name": "python"
    }
  },
  "cells": [
    {
      "cell_type": "markdown",
      "metadata": {
        "id": "view-in-github",
        "colab_type": "text"
      },
      "source": [
        "<a href=\"https://colab.research.google.com/github/zerlin0/pcvk/blob/main/pcvk11_ObjectDetection.ipynb\" target=\"_parent\"><img src=\"https://colab.research.google.com/assets/colab-badge.svg\" alt=\"Open In Colab\"/></a>"
      ]
    },
    {
      "cell_type": "markdown",
      "source": [
        "# **Object Detection**"
      ],
      "metadata": {
        "id": "Pmjl7nC7Nw4o"
      }
    },
    {
      "cell_type": "markdown",
      "source": [
        "Metode yang digunakan :\n",
        "1. Template Matching\n",
        "2. Edge Detection\n",
        "3. Corner Detection\n",
        "4. Grid Detection\n",
        "5. Contour Detection"
      ],
      "metadata": {
        "id": "x6JLX4ABK1wb"
      }
    },
    {
      "cell_type": "markdown",
      "source": [
        "- Content-Based Image Retrieval (CBIR) = shape, color, texture (ini metode/ilmu lama)\n",
        "- metode terbarunya adalah dengan Deep Learning(dengan mengekstrak pixel)\n",
        "- ekstrasi fitur akan merepotkan jika banyak bentuk yg dideteksi, akan makin kompleks"
      ],
      "metadata": {
        "id": "BkH_eTMSLihU"
      }
    },
    {
      "cell_type": "code",
      "execution_count": 4,
      "metadata": {
        "id": "z0_N9g6OKUV1"
      },
      "outputs": [],
      "source": [
        "#import library\n",
        "import cv2 as cv\n",
        "import numpy as np\n",
        "from matplotlib import pyplot as plt"
      ]
    },
    {
      "cell_type": "code",
      "source": [
        "#askes drive\n",
        "from google.colab import drive\n",
        "\n",
        "drive.mount('/content/drive')"
      ],
      "metadata": {
        "id": "FmRQ330KMJHg",
        "outputId": "19f07825-583a-4874-d497-ce8722b4e175",
        "colab": {
          "base_uri": "https://localhost:8080/"
        }
      },
      "execution_count": 5,
      "outputs": [
        {
          "output_type": "stream",
          "name": "stdout",
          "text": [
            "Drive already mounted at /content/drive; to attempt to forcibly remount, call drive.mount(\"/content/drive\", force_remount=True).\n"
          ]
        }
      ]
    },
    {
      "cell_type": "markdown",
      "source": [
        "# TEMPLATE MATCHING"
      ],
      "metadata": {
        "id": "74R_lNPqRGE8"
      }
    },
    {
      "cell_type": "markdown",
      "source": [
        "Menggunakan library openCV:\n",
        "ev.matchTemplate(), dengan parameter\n",
        "- image: citra input\n",
        "- templ: template yang dicari, ukurannya tidak boleh lebih besar dari citra input\n",
        "- method metade dari template matching\n",
        "Jenis metode template matching di OpenCV:\n",
        "  1. TM SQDIFF\n",
        "  2. TM SQDIFF NORMED\n",
        "  3. TM_CCORR\n",
        "  4. TM.CCORR NORMED\n",
        "  5. TM.CCOEFF\n",
        "  6. TM CCOEFF NORMED"
      ],
      "metadata": {
        "id": "ADA2DIn-RPlm"
      }
    }
  ]
}