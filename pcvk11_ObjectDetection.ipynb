{
  "nbformat": 4,
  "nbformat_minor": 0,
  "metadata": {
    "colab": {
      "provenance": [],
      "authorship_tag": "ABX9TyNQLOsl9BvObN5MkrTd6Acj",
      "include_colab_link": true
    },
    "kernelspec": {
      "name": "python3",
      "display_name": "Python 3"
    },
    "language_info": {
      "name": "python"
    }
  },
  "cells": [
    {
      "cell_type": "markdown",
      "metadata": {
        "id": "view-in-github",
        "colab_type": "text"
      },
      "source": [
        "<a href=\"https://colab.research.google.com/github/zerlin0/pcvk/blob/main/pcvk11_ObjectDetection.ipynb\" target=\"_parent\"><img src=\"https://colab.research.google.com/assets/colab-badge.svg\" alt=\"Open In Colab\"/></a>"
      ]
    },
    {
      "cell_type": "markdown",
      "source": [
        "# **Object Detection**"
      ],
      "metadata": {
        "id": "Pmjl7nC7Nw4o"
      }
    },
    {
      "cell_type": "markdown",
      "source": [
        "Metode yang digunakan :\n",
        "1. Template Matching\n",
        "2. Edge Detection\n",
        "3. Corner Detection\n",
        "4. Grid Detection\n",
        "5. Contour Detection"
      ],
      "metadata": {
        "id": "x6JLX4ABK1wb"
      }
    },
    {
      "cell_type": "markdown",
      "source": [
        "- Content-Based Image Retrieval (CBIR) = shape, color, texture (ini metode/ilmu lama)\n",
        "- metode terbarunya adalah dengan Deep Learning(dengan mengekstrak pixel)\n",
        "- ekstrasi fitur akan merepotkan jika banyak bentuk yg dideteksi, akan makin kompleks"
      ],
      "metadata": {
        "id": "BkH_eTMSLihU"
      }
    },
    {
      "cell_type": "markdown",
      "source": [
        "# TEMPLATE MATCHING"
      ],
      "metadata": {
        "id": "74R_lNPqRGE8"
      }
    },
    {
      "cell_type": "markdown",
      "source": [
        "Menggunakan library openCV:\n",
        "ev.matchTemplate(), dengan parameter\n",
        "- image: citra input\n",
        "- templ: template yang dicari, ukurannya tidak boleh lebih besar dari citra input\n",
        "- method metade dari template matching\n",
        "Jenis metode template matching di OpenCV:\n",
        "  1. TM SQDIFF\n",
        "  2. TM SQDIFF NORMED\n",
        "  3. TM_CCORR\n",
        "  4. TM.CCORR NORMED\n",
        "  5. TM.CCOEFF\n",
        "  6. TM CCOEFF NORMED"
      ],
      "metadata": {
        "id": "ADA2DIn-RPlm"
      }
    },
    {
      "cell_type": "markdown",
      "source": [
        "# Practicum"
      ],
      "metadata": {
        "id": "ZwqRgznMUs9K"
      }
    },
    {
      "cell_type": "code",
      "execution_count": 4,
      "metadata": {
        "id": "z0_N9g6OKUV1"
      },
      "outputs": [],
      "source": [
        "#import library\n",
        "import cv2 as cv\n",
        "import numpy as np\n",
        "from matplotlib import pyplot as plt"
      ]
    },
    {
      "cell_type": "code",
      "source": [
        "#askes drive\n",
        "from google.colab import drive\n",
        "\n",
        "drive.mount('/content/drive')"
      ],
      "metadata": {
        "colab": {
          "base_uri": "https://localhost:8080/"
        },
        "id": "FmRQ330KMJHg",
        "outputId": "19f07825-583a-4874-d497-ce8722b4e175"
      },
      "execution_count": 5,
      "outputs": [
        {
          "output_type": "stream",
          "name": "stdout",
          "text": [
            "Drive already mounted at /content/drive; to attempt to forcibly remount, call drive.mount(\"/content/drive\", force_remount=True).\n"
          ]
        }
      ]
    },
    {
      "cell_type": "code",
      "source": [
        "# Baca gambar utama dan gambar template\n",
        "main_image = cv.imread('/content/drive/MyDrive/Images/cats_and_bunnies.jpg', cv.IMREAD_COLOR)\n",
        "template = cv.imread('/content/drive/MyDrive/Images/cat2_template.jpg', cv.IMREAD_COLOR)\n",
        "\n",
        "# Convert gambar ke grayscale\n",
        "main_gray = cv.cvtColor(main_image, cv.COLOR_BGR2GRAY)\n",
        "template_gray = cv.cvtColor(template, cv.COLOR_BGR2GRAY)\n",
        "\n",
        "# Metode Template Matching: TM_SQDIFF\n",
        "result_sqdiff = cv.matchTemplate(main_gray, template_gray, cv.TM_SQDIFF)\n",
        "min_val, max_val, min_loc, max_loc = cv.minMaxLoc(result_sqdiff)\n",
        "top_left = min_loc\n",
        "h, w = template_gray.shape\n",
        "bottom_right = (top_left[0] + w, top_left[1] + h)\n",
        "\n",
        "# Gambar hasil pencocokan dengan kotak di sekitar objek cocok\n",
        "matched_image_sqdiff = main_image.copy()\n",
        "cv.rectangle(matched_image_sqdiff, top_left, bottom_right, 255, 2)\n",
        "\n",
        "# Metode Template Matching: TM_SQDIFF_NORMED\n",
        "result_sqdiff_normed = cv.matchTemplate(main_gray, template_gray, cv.TM_SQDIFF_NORMED)\n",
        "min_val, max_val, min_loc, max_loc = cv.minMaxLoc(result_sqdiff_normed)\n",
        "top_left = min_loc\n",
        "h, w = template_gray.shape\n",
        "bottom_right = (top_left[0] + w, top_left[1] + h)\n",
        "\n",
        "# Gambar hasil pencocokan dengan kotak di sekitar objek cocok\n",
        "matched_image_sqdiff_normed = main_image.copy()\n",
        "cv.rectangle(matched_image_sqdiff_normed, top_left, bottom_right, 255, 2)\n",
        "\n",
        "# Metode Template Matching: TM_CCORR\n",
        "result_ccorr = cv.matchTemplate(main_gray, template_gray, cv.TM_CCORR)\n",
        "min_val, max_val, min_loc, max_loc = cv.minMaxLoc(result_ccorr)\n",
        "top_left = max_loc\n",
        "h, w = template_gray.shape\n",
        "bottom_right = (top_left[0] + w, top_left[1] + h)\n",
        "\n",
        "# Gambar hasil pencocokan dengan kotak di sekitar objek cocok\n",
        "matched_image_ccorr = main_image.copy()\n",
        "cv.rectangle(matched_image_ccorr, top_left, bottom_right, 255, 2)\n",
        "\n",
        "# Metode Template Matching: TM_CCORR_NORMED\n",
        "result_ccorr_normed = cv.matchTemplate(main_gray, template_gray, cv.TM_CCORR_NORMED)\n",
        "min_val, max_val, min_loc, max_loc = cv.minMaxLoc(result_ccorr_normed)\n",
        "top_left = max_loc\n",
        "h, w = template_gray.shape\n",
        "bottom_right = (top_left[0] + w, top_left[1] + h)\n",
        "\n",
        "# Gambar hasil pencocokan dengan kotak di sekitar objek cocok\n",
        "matched_image_ccorr_normed = main_image.copy()\n",
        "cv.rectangle(matched_image_ccorr_normed, top_left, bottom_right, 255, 2)\n",
        "\n",
        "# Metode Template Matching: TM_CCOEFF\n",
        "result_ccoeff = cv.matchTemplate(main_gray, template_gray, cv.TM_CCOEFF)\n",
        "min_val, max_val, min_loc, max_loc = cv.minMaxLoc(result_ccoeff)\n",
        "top_left = max_loc\n",
        "h, w = template_gray.shape\n",
        "bottom_right = (top_left[0] + w, top_left[1] + h)\n",
        "\n",
        "# Gambar hasil pencocokan dengan kotak di sekitar objek cocok\n",
        "matched_image_ccoeff = main_image.copy()\n",
        "cv.rectangle(matched_image_ccoeff, top_left, bottom_right, 255, 2)\n",
        "\n",
        "# Metode Template Matching: TM_CCOEFF_NORMED\n",
        "result_ccoeff_normed = cv.matchTemplate(main_gray, template_gray, cv.TM_CCOEFF_NORMED)\n",
        "min_val, max_val, min_loc, max_loc = cv.minMaxLoc(result_ccoeff_normed)\n",
        "top_left = max_loc\n",
        "h, w = template_gray.shape\n",
        "bottom_right = (top_left[0] + w, top_left[1] + h)\n",
        "\n",
        "# Gambar hasil pencocokan dengan kotak di sekitar objek cocok\n",
        "matched_image_ccoeff_normed = main_image.copy()\n",
        "cv.rectangle(matched_image_ccoeff_normed, top_left, bottom_right, 255, 2)\n",
        "\n",
        "# Tampilkan gambar-gambar hasil pencocokan\n",
        "plt.subplot(231), plt.imshow(matched_image_sqdiff, cmap='gray'), plt.title('TM_SQDIFF')\n",
        "plt.subplot(232), plt.imshow(matched_image_sqdiff_normed, cmap='gray'), plt.title('TM_SQDIFF_NORMED')\n",
        "plt.subplot(233), plt.imshow(matched_image_ccorr, cmap='gray'), plt.title('TM_CCORR')\n",
        "plt.subplot(234), plt.imshow(matched_image_ccorr_normed, cmap='gray'), plt.title('TM_CCORR_NORMED')\n",
        "plt.subplot(235), plt.imshow(matched_image_ccoeff, cmap='gray'), plt.title('TM_CCOEFF')\n",
        "plt.subplot(236), plt.imshow(matched_image_ccoeff_normed, cmap='gray'), plt.title('TM_CCOEFF_NORMED')\n",
        "plt.show()\n"
      ],
      "metadata": {
        "colab": {
          "base_uri": "https://localhost:8080/",
          "height": 246
        },
        "id": "fVCMrkYsVT-8",
        "outputId": "2e99b86c-69d7-44a0-b43a-ecb6245ae0e0"
      },
      "execution_count": 7,
      "outputs": [
        {
          "output_type": "error",
          "ename": "error",
          "evalue": "ignored",
          "traceback": [
            "\u001b[0;31m---------------------------------------------------------------------------\u001b[0m",
            "\u001b[0;31merror\u001b[0m                                     Traceback (most recent call last)",
            "\u001b[0;32m<ipython-input-7-0508f3f4f869>\u001b[0m in \u001b[0;36m<cell line: 6>\u001b[0;34m()\u001b[0m\n\u001b[1;32m      4\u001b[0m \u001b[0;34m\u001b[0m\u001b[0m\n\u001b[1;32m      5\u001b[0m \u001b[0;31m# Convert gambar ke grayscale\u001b[0m\u001b[0;34m\u001b[0m\u001b[0;34m\u001b[0m\u001b[0m\n\u001b[0;32m----> 6\u001b[0;31m \u001b[0mmain_gray\u001b[0m \u001b[0;34m=\u001b[0m \u001b[0mcv\u001b[0m\u001b[0;34m.\u001b[0m\u001b[0mcvtColor\u001b[0m\u001b[0;34m(\u001b[0m\u001b[0mmain_image\u001b[0m\u001b[0;34m,\u001b[0m \u001b[0mcv\u001b[0m\u001b[0;34m.\u001b[0m\u001b[0mCOLOR_BGR2GRAY\u001b[0m\u001b[0;34m)\u001b[0m\u001b[0;34m\u001b[0m\u001b[0;34m\u001b[0m\u001b[0m\n\u001b[0m\u001b[1;32m      7\u001b[0m \u001b[0mtemplate_gray\u001b[0m \u001b[0;34m=\u001b[0m \u001b[0mcv\u001b[0m\u001b[0;34m.\u001b[0m\u001b[0mcvtColor\u001b[0m\u001b[0;34m(\u001b[0m\u001b[0mtemplate\u001b[0m\u001b[0;34m,\u001b[0m \u001b[0mcv\u001b[0m\u001b[0;34m.\u001b[0m\u001b[0mCOLOR_BGR2GRAY\u001b[0m\u001b[0;34m)\u001b[0m\u001b[0;34m\u001b[0m\u001b[0;34m\u001b[0m\u001b[0m\n\u001b[1;32m      8\u001b[0m \u001b[0;34m\u001b[0m\u001b[0m\n",
            "\u001b[0;31merror\u001b[0m: OpenCV(4.8.0) /io/opencv/modules/imgproc/src/color.cpp:182: error: (-215:Assertion failed) !_src.empty() in function 'cvtColor'\n"
          ]
        }
      ]
    }
  ]
}